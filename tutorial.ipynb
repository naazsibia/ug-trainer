{
  "cells": [
    {
      "cell_type": "markdown",
      "metadata": {
        "id": "view-in-github",
        "colab_type": "text"
      },
      "source": [
        "<a href=\"https://colab.research.google.com/github/naazsibia/ug-trainer/blob/main/tutorial.ipynb\" target=\"_parent\"><img src=\"https://colab.research.google.com/assets/colab-badge.svg\" alt=\"Open In Colab\"/></a>"
      ]
    },
    {
      "cell_type": "markdown",
      "id": "33db24b0",
      "metadata": {
        "id": "33db24b0"
      },
      "source": [
        "Welcome! In this notebook we’ll walk through:\n",
        "\n",
        "1. **Loading data** from CSV  \n",
        "2. **Basic DataFrame operations**  \n",
        "3. **Applying functions** to columns  \n",
        "4. **Useful DataFrame methods**  \n",
        "5. **Merging multiple files**  \n",
        "6. **Saving results**  \n",
        "\n",
        "Each section has a short explanation and example code—feel free to modify and rerun cells!"
      ]
    },
    {
      "cell_type": "markdown",
      "id": "2445dda8",
      "metadata": {
        "id": "2445dda8"
      },
      "source": [
        "## 1. Setup and Sample Data\n",
        "\n",
        "First, import pandas and create a small in-memory sample dataset."
      ]
    },
    {
      "cell_type": "code",
      "execution_count": null,
      "id": "ce624208",
      "metadata": {
        "vscode": {
          "languageId": "plaintext"
        },
        "id": "ce624208"
      },
      "outputs": [],
      "source": [
        "import pandas as pd\n",
        "from io import StringIO\n",
        "\n",
        "# Create a sample CSV as a string\n",
        "csv_data = \"\"\"name,age,score\n",
        "Alice,30,85\n",
        "Bob,25,90\n",
        "Carol,22,78\"\"\"\n",
        "\n",
        "# Read into DataFrame\n",
        "df_sample = pd.read_csv(StringIO(csv_data))\n",
        "df_sample  # display the loaded DataFrame\n",
        "\n",
        "\n"
      ]
    },
    {
      "cell_type": "markdown",
      "id": "446acdf5",
      "metadata": {
        "id": "446acdf5"
      },
      "source": [
        "## 2. Basic DataFrame Operations\n",
        "Explore some fundamental DataFrame methods."
      ]
    },
    {
      "cell_type": "code",
      "execution_count": null,
      "id": "1ad3c598",
      "metadata": {
        "vscode": {
          "languageId": "plaintext"
        },
        "id": "1ad3c598"
      },
      "outputs": [],
      "source": [
        "\n",
        "# Display first few rows\n",
        "df_sample.head()\n",
        "\n",
        "\n",
        "# Summary statistics\n",
        "df_sample.describe()\n",
        "\n",
        "\n",
        "# Select specific columns\n",
        "df_sample[['name', 'score']]"
      ]
    },
    {
      "cell_type": "markdown",
      "id": "c6c156d1",
      "metadata": {
        "id": "c6c156d1"
      },
      "source": [
        "## 3. Applying Functions to Columns\n",
        "Define a custom function and apply it to a column."
      ]
    },
    {
      "cell_type": "code",
      "execution_count": null,
      "id": "402632f4",
      "metadata": {
        "vscode": {
          "languageId": "plaintext"
        },
        "id": "402632f4"
      },
      "outputs": [],
      "source": [
        "\n",
        "# Example function to add bonus points\n",
        "def add_bonus(score):\n",
        "    return score + 5\n",
        "\n",
        "# Apply to 'score' column\n",
        "df_sample['score_plus_bonus'] = df_sample['score'].apply(add_bonus)\n",
        "df_sample"
      ]
    },
    {
      "cell_type": "markdown",
      "id": "67fe6af9",
      "metadata": {
        "id": "67fe6af9"
      },
      "source": [
        "## 4. Useful DataFrame Methods\n",
        "Demonstrations of common DataFrame transformations."
      ]
    },
    {
      "cell_type": "code",
      "execution_count": null,
      "id": "96861f48",
      "metadata": {
        "vscode": {
          "languageId": "plaintext"
        },
        "id": "96861f48"
      },
      "outputs": [],
      "source": [
        "# Create a copy with a missing value for demonstration\n",
        "df = df_sample.copy()\n",
        "df.loc[3] = ['David', None, 88]\n",
        "df\n",
        "\n",
        "\n",
        "# Drop rows with any missing values\n",
        "df.dropna(inplace=True)\n",
        "df\n",
        "\n",
        "\n",
        "# Sort by score descending\n",
        "df_sample.sort_values('score', ascending=False)\n",
        "\n",
        "\n",
        "# Rename a column (returns a new DataFrame)\n",
        "df_sample.rename(columns={'score': 'exam_score'}, inplace=False)\n",
        "\n",
        "\n",
        "# Demonstrate dropping duplicate rows\n",
        "df_dup = pd.concat([df_sample, df_sample])\n",
        "df_dup\n",
        "\n",
        "\n",
        "# Remove duplicates\n",
        "df_dup.drop_duplicates()\n"
      ]
    },
    {
      "cell_type": "markdown",
      "id": "2883075d",
      "metadata": {
        "id": "2883075d"
      },
      "source": [
        "## 5. Merging Multiple Files\n",
        "\n",
        "Combine two DataFrames on a common key."
      ]
    },
    {
      "cell_type": "code",
      "execution_count": null,
      "id": "16642533",
      "metadata": {
        "vscode": {
          "languageId": "plaintext"
        },
        "id": "16642533"
      },
      "outputs": [],
      "source": [
        "# Create a second sample CSV for department info\n",
        "csv_data2 = \"\"\"name,department\n",
        "Alice,Physics\n",
        "Bob,Chemistry\n",
        "Carol,Biology\"\"\"\n",
        "\n",
        "df_dept = pd.read_csv(StringIO(csv_data2))\n",
        "df_dept\n",
        "\n",
        "\n",
        "# Merge sample data with department info on 'name'\n",
        "merged = pd.merge(df_sample, df_dept, on='name', how='inner')\n",
        "merged"
      ]
    },
    {
      "cell_type": "markdown",
      "id": "126e924a",
      "metadata": {
        "id": "126e924a"
      },
      "source": [
        "## 6. Saving Results\n",
        "Write your processed DataFrame back to CSV."
      ]
    },
    {
      "cell_type": "code",
      "execution_count": null,
      "id": "d18db403",
      "metadata": {
        "vscode": {
          "languageId": "plaintext"
        },
        "id": "d18db403"
      },
      "outputs": [],
      "source": [
        "# Save the merged DataFrame to a file\n",
        "merged.to_csv('merged_output.csv', index=False)\n",
        "print('Saved merged_output.csv')"
      ]
    }
  ],
  "metadata": {
    "language_info": {
      "name": "python"
    },
    "colab": {
      "provenance": [],
      "include_colab_link": true
    }
  },
  "nbformat": 4,
  "nbformat_minor": 5
}